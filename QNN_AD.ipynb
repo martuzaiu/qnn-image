{
  "nbformat": 4,
  "nbformat_minor": 0,
  "metadata": {
    "colab": {
      "provenance": []
    },
    "kernelspec": {
      "name": "python3",
      "display_name": "Python 3"
    },
    "language_info": {
      "name": "python"
    }
  },
  "cells": [
    {
      "cell_type": "code",
      "source": [
        "from google.colab import drive\n",
        "drive.mount('/content/drive')\n",
        "%cd '/content/drive/My Drive/RESEARCH/QML_ADNI/AD'"
      ],
      "metadata": {
        "colab": {
          "base_uri": "https://localhost:8080/"
        },
        "id": "OvJQLK2nWvKi",
        "outputId": "0ffa3626-5efc-44b9-f31d-e64805d587af"
      },
      "execution_count": null,
      "outputs": [
        {
          "output_type": "stream",
          "name": "stdout",
          "text": [
            "Mounted at /content/drive\n",
            "/content/drive/My Drive/RESEARCH/QML_ADNI/AD\n"
          ]
        }
      ]
    },
    {
      "cell_type": "code",
      "source": [
        "!pip install qiskit"
      ],
      "metadata": {
        "id": "KQEP7tzxXMgG"
      },
      "execution_count": null,
      "outputs": []
    },
    {
      "cell_type": "code",
      "source": [
        "!pip install qiskit-aer"
      ],
      "metadata": {
        "id": "n0xvo0EKXMpe"
      },
      "execution_count": null,
      "outputs": []
    },
    {
      "cell_type": "code",
      "source": [
        "import numpy as np\n",
        "import matplotlib.pyplot as plt\n",
        "\n",
        "import torch\n",
        "from torch.autograd import Function\n",
        "from torchvision import datasets, transforms\n",
        "import torch.optim as optim\n",
        "import torch.nn as nn\n",
        "import torch.nn.functional as F\n",
        "\n",
        "import qiskit\n",
        "from qiskit import transpile, assemble\n",
        "from qiskit.visualization import *\n",
        "from qiskit_aer import Aer\n",
        "\n",
        "from glob import glob"
      ],
      "metadata": {
        "id": "HJGqDexWXEVt"
      },
      "execution_count": null,
      "outputs": []
    },
    {
      "cell_type": "code",
      "source": [
        "from glob import glob\n",
        "#define size to which images are to be resized\n",
        "IMAGE_SIZE = [128, 128] # feel free to change depending on dataset\n",
        "\n",
        "# training config:\n",
        "epochs = 500\n",
        "batch_size = 32\n",
        "\n",
        "#define paths\n",
        "AD_path = 'Mild_Demented'\n",
        "CT_path = 'Non_Demented'\n",
        "\n",
        "# Use glob to grab images from path .jpg or jpeg\n",
        "AD_files = glob(AD_path + '/*')\n",
        "CT_files = glob(CT_path + '/*')"
      ],
      "metadata": {
        "id": "FqCrv2IWWyqU"
      },
      "execution_count": null,
      "outputs": []
    },
    {
      "cell_type": "code",
      "source": [
        "def rgb_to_gray(rgb_image):\n",
        "    # Convert RGB image to grayscale using luminance method\n",
        "    gray_image = np.dot(rgb_image[...,:3], [0.2989, 0.5870, 0.1140])\n",
        "\n",
        "    # Convert to uint8 type\n",
        "    gray_image = gray_image.astype(np.uint8)\n",
        "\n",
        "    return gray_image"
      ],
      "metadata": {
        "id": "raQFz4n_qCiG"
      },
      "execution_count": null,
      "outputs": []
    },
    {
      "cell_type": "code",
      "source": [
        "from os import ctermid\n",
        "# Preparing Labels\n",
        "AD_labels = []\n",
        "CT_labels = []\n",
        "\n",
        "AD_images=[]\n",
        "CT_images=[]\n",
        "\n",
        "import cv2\n",
        "\n",
        "for i in range(100):\n",
        "  image = cv2.imread(AD_files[i])\n",
        "  image = cv2.cvtColor(image, cv2.COLOR_BGR2RGB)\n",
        "  image = cv2.resize(image,(28,28))\n",
        "  image = rgb_to_gray(image)\n",
        "  AD_images.append(image)\n",
        "  AD_labels.append(1)\n",
        "for i in range(100):\n",
        "  image = cv2.imread(CT_files[i])\n",
        "  image = cv2.cvtColor(image, cv2.COLOR_BGR2RGB)\n",
        "  image = cv2.resize(image,(28,28))\n",
        "  image = rgb_to_gray(image)\n",
        "  CT_images.append(image)\n",
        "  CT_labels.append(0)"
      ],
      "metadata": {
        "id": "b0FIXWeFdDdT"
      },
      "execution_count": null,
      "outputs": []
    },
    {
      "cell_type": "code",
      "source": [
        "# look at a random image for fun\n",
        "def plot_images(images, title):\n",
        "    nrows, ncols = 1, 5\n",
        "    figsize = [3, 2]\n",
        "\n",
        "    fig, ax = plt.subplots(nrows=nrows, ncols=ncols, figsize=figsize, facecolor=(1, 1, 1))\n",
        "\n",
        "    for i, axi in enumerate(ax.flat):\n",
        "        axi.imshow(images[i])\n",
        "        axi.set_axis_off()\n",
        "\n",
        "    plt.suptitle(title, fontsize=24)\n",
        "    plt.tight_layout(pad=0.2, rect=[0, 0, 1, 0.9])\n",
        "    plt.show()\n",
        "plot_images(AD_images, 'Alzheimers')\n",
        "plot_images(CT_images, 'Control')"
      ],
      "metadata": {
        "colab": {
          "base_uri": "https://localhost:8080/",
          "height": 361
        },
        "id": "tS6Tlz5reJWx",
        "outputId": "c6123da9-db68-4987-f5f5-e2c91dbec5b3"
      },
      "execution_count": null,
      "outputs": [
        {
          "output_type": "display_data",
          "data": {
            "text/plain": [
              "<Figure size 300x200 with 5 Axes>"
            ],
            "image/png": "[encoded data removed]"
          },
          "metadata": {}
        },
        {
          "output_type": "display_data",
          "data": {
            "text/plain": [
              "<Figure size 300x200 with 5 Axes>"
            ],
            "image/png": "[encoded data removed]"
          },
          "metadata": {}
        }
      ]
    },
    {
      "cell_type": "code",
      "source": [
        "# normalize to interval of [0,1]\n",
        "AD_images = np.array(AD_images) / 255\n",
        "CT_images = np.array(CT_images) / 255"
      ],
      "metadata": {
        "id": "j-9U86-berCw"
      },
      "execution_count": null,
      "outputs": []
    },
    {
      "cell_type": "code",
      "source": [
        "from sklearn.model_selection import train_test_split\n",
        "from sklearn.preprocessing import LabelBinarizer\n",
        "from tensorflow.keras.utils import to_categorical\n",
        "\n",
        "# split into training and testing\n",
        "AD_x_train, AD_x_test, AD_y_train, AD_y_test = train_test_split(\n",
        "    AD_images, AD_labels, test_size=0.2)\n",
        "CT_x_train, CT_x_test, CT_y_train, CT_y_test = train_test_split(\n",
        "    CT_images, CT_labels, test_size=0.2)\n",
        "\n",
        "\n",
        "X_train = np.concatenate((CT_x_train, AD_x_train), axis=0)\n",
        "X_test = np.concatenate((CT_x_test, AD_x_test), axis=0)\n",
        "y_train = np.concatenate((CT_y_train, AD_y_train), axis=0)\n",
        "y_test = np.concatenate((CT_y_test, AD_y_test), axis=0)\n",
        "\n",
        "# make labels into categories - either 0 or 1\n",
        "#y_train = LabelBinarizer().fit_transform(y_train)\n",
        "#y_train = to_categorical(y_train)\n",
        "\n",
        "#y_test = LabelBinarizer().fit_transform(y_test)\n",
        "#y_test = to_categorical(y_test)"
      ],
      "metadata": {
        "id": "4WsJlI7jeuua"
      },
      "execution_count": null,
      "outputs": []
    },
    {
      "cell_type": "code",
      "source": [
        "class QuantumCircuit:\n",
        "  def __init__(self, n_qbits, backend, shots):\n",
        "    self._circuit = qiskit.QuantumCircuit(n_qbits)\n",
        "\n",
        "    all_qbits = [i for i in range(n_qbits)]\n",
        "    self.theta = qiskit.circuit.Parameter(\"theta\")\n",
        "\n",
        "    self._circuit.h(all_qbits)\n",
        "    self._circuit.barrier()\n",
        "    self._circuit.ry(self.theta, all_qbits)\n",
        "\n",
        "    self._circuit.measure_all()\n",
        "\n",
        "    self.backend = backend\n",
        "    self.shots = shots\n",
        "\n",
        "  def run(self, thetas):\n",
        "    t_qc = transpile(self._circuit,\n",
        "                      self.backend)\n",
        "    qobj = assemble(t_qc,\n",
        "                    shots=self.shots,\n",
        "                    parameter_binds=[{self.theta: theta} for theta in thetas])\n",
        "    job = self.backend.run(qobj)\n",
        "    result = job.result().get_counts()\n",
        "    counts = np.array(list(result.values()))\n",
        "    states = np.array(list(result.keys())).astype(float)\n",
        "\n",
        "    probabilities = counts / self.shots\n",
        "    expectation = np.sum(states*probabilities)\n",
        "\n",
        "    return np.array([expectation])\n"
      ],
      "metadata": {
        "id": "mfSjpQxQT-RR"
      },
      "execution_count": null,
      "outputs": []
    },
    {
      "cell_type": "code",
      "source": [
        "simulator = Aer.get_backend('aer_simulator')\n",
        "\n",
        "circuit = QuantumCircuit(1, simulator, 100)\n",
        "print('Expected value for rotation pi {}'.format(circuit.run([np.pi])[0]))\n",
        "circuit._circuit.draw()"
      ],
      "metadata": {
        "colab": {
          "base_uri": "https://localhost:8080/",
          "height": 168
        },
        "id": "cyd0l3GMXVx2",
        "outputId": "4d78d384-9b6c-4352-e4eb-8e0bcefba93c"
      },
      "execution_count": null,
      "outputs": [
        {
          "output_type": "stream",
          "name": "stdout",
          "text": [
            "Expected value for rotation pi 0.55\n"
          ]
        },
        {
          "output_type": "stream",
          "name": "stderr",
          "text": [
            "<ipython-input-180-3206b06e2208>:23: DeprecationWarning: Using a qobj for run() is deprecated as of qiskit-aer 0.14 and will be removed no sooner than 3 months from that release date. Transpiled circuits should now be passed directly using `backend.run(circuits, **run_options).\n",
            "  job = self.backend.run(qobj)\n"
          ]
        },
        {
          "output_type": "execute_result",
          "data": {
            "text/plain": [
              "        ┌───┐ ░ ┌───────────┐ ░ ┌─┐\n",
              "     q: ┤ H ├─░─┤ Ry(theta) ├─░─┤M├\n",
              "        └───┘ ░ └───────────┘ ░ └╥┘\n",
              "meas: 1/═════════════════════════╩═\n",
              "                                 0 "
            ],
            "text/html": [
              "<pre style=\"word-wrap: normal;white-space: pre;background: #fff0;line-height: 1.1;font-family: &quot;Courier New&quot;,Courier,monospace\">        ┌───┐ ░ ┌───────────┐ ░ ┌─┐\n",
              "     q: ┤ H ├─░─┤ Ry(theta) ├─░─┤M├\n",
              "        └───┘ ░ └───────────┘ ░ └╥┘\n",
              "meas: 1/═════════════════════════╩═\n",
              "                                 0 </pre>"
            ]
          },
          "metadata": {},
          "execution_count": 181
        }
      ]
    },
    {
      "cell_type": "code",
      "source": [
        "class HybridFunction (Function):\n",
        "\t@staticmethod\n",
        "\tdef forward(ctx, input, quantum_circuit, shift):\n",
        "\t\tctx.shift = shift\n",
        "\t\tctx.quantum_circuit = quantum_circuit\n",
        "\n",
        "\t\texpectation_z = ctx.quantum_circuit.run(input[0].tolist())\n",
        "\t\tresult = torch. tensor ([expectation_z])\n",
        "\t\tctx.save_for_backward (input, result)\n",
        "\n",
        "\t\treturn result\n",
        "\n",
        "\t@staticmethod\n",
        "\tdef backward (ctx, grad_output):\n",
        "\t\tinput, expectation_z = ctx.saved_tensors\n",
        "\t\tinput_list = np.array(input.tolist())\n",
        "\n",
        "\t\tshift_right = input_list + np.ones(input_list.shape) * ctx.shift\n",
        "\t\tshift_left = input_list - np.ones(input_list.shape) * ctx.shift\n",
        "\n",
        "\t\tgradients = []\n",
        "\t\tfor i in range(len(input_list)):\n",
        "\t\t\texpectation_right = ctx.quantum_circuit.run(shift_right[i])\n",
        "\t\t\texpectation_left = ctx.quantum_circuit.run(shift_left[i])\n",
        "\n",
        "\t\t\tgradient = torch.tensor ([expectation_right]) - torch.tensor([expectation_left])\n",
        "\t\t\tgradients.append(gradient)\n",
        "\t\tgradients = np.array([gradients]).T\n",
        "\t\treturn torch.tensor ([gradients]).float() * grad_output.float(), None, None\n",
        "\n",
        "class Hybrid(nn.Module):\n",
        "    def __init__(self, backend, shots, shift):\n",
        "      super(Hybrid, self).__init__()\n",
        "      self.quantum_circuit = QuantumCircuit(1, backend, shots)\n",
        "      self.shift = shift\n",
        "\n",
        "    def forward(self, input):\n",
        "      return HybridFunction.apply(input, self.quantum_circuit, self.shift)"
      ],
      "metadata": {
        "id": "pt2NVxUecoPi"
      },
      "execution_count": null,
      "outputs": []
    },
    {
      "cell_type": "code",
      "source": [
        "#Training using first 100 somples\n",
        "\n",
        "n_samples = 100\n",
        "\n",
        "X_train = datasets.MNIST(root:='./data', train=True, download=True,\n",
        "                         transform=transforms.Compose([transforms. ToTensor()]))\n",
        "\n",
        "#Leaving only labels 0 and 1\n",
        "\n",
        "idx= np.append(np.where(X_train.targets == 0)[0][:n_samples],\n",
        "               np.where(X_train.targets == 1) [0] [:n_samples])\n",
        "\n",
        "X_train.data = X_train.data[idx]\n",
        "\n",
        "X_train.targets = X_train.targets [idx]\n",
        "\n",
        "train_loader = torch.utils.data.DataLoader(X_train, batch_size=1, shuffle=True)"
      ],
      "metadata": {
        "id": "JygF4qhwk3ye"
      },
      "execution_count": null,
      "outputs": []
    },
    {
      "cell_type": "code",
      "source": [
        "#To display how the input data Looks\n",
        "\n",
        "n_samples_show = 6\n",
        "\n",
        "data_iter = iter(train_loader)\n",
        "\n",
        "fig, axes = plt.subplots(nrows=1, ncols=n_samples_show, figsize=(10, 3))\n",
        "\n",
        "while n_samples_show > 0:\n",
        "  images, targets = data_iter.__next__()\n",
        "  axes[n_samples_show - 1].imshow(images[0].numpy().squeeze(), cmap=\"gray\")\n",
        "  axes[n_samples_show - 1].set_xticks([])\n",
        "  axes[n_samples_show - 1].set_yticks([])\n",
        "  axes[n_samples_show - 1].set_title(\"Labeled: {}\".format(targets. item()))\n",
        "\n",
        "  n_samples_show -= 1"
      ],
      "metadata": {
        "id": "fkw2OsmzmoAE"
      },
      "execution_count": null,
      "outputs": []
    },
    {
      "cell_type": "code",
      "source": [
        "#Testing Data\n",
        "\n",
        "n_samples = 50\n",
        "\n",
        "X_test = datasets.MNIST(root='./data', train=False, download=True,\n",
        "                        transform=transforms.Compose([transforms. ToTensor()]))\n",
        "\n",
        "idx = np.append(np.where(X_test.targets == 0)[0][:n_samples],\n",
        "                np.where(X_test.targets == 1)[0][:n_samples])\n",
        "\n",
        "X_test.data = X_test.data[idx]\n",
        "\n",
        "X_test.targets = X_test.targets [idx]\n",
        "\n",
        "test_loader = torch.utils.data. DataLoader(X_test, batch_size=1, shuffle=True)"
      ],
      "metadata": {
        "id": "OyCZe169oFjB"
      },
      "execution_count": null,
      "outputs": []
    },
    {
      "cell_type": "code",
      "source": [
        "class Net(nn.Module):\n",
        "  def __init__(self):\n",
        "    super(Net, self).__init__()\n",
        "    self.conv1 = nn.Conv2d(1, 6, kernel_size=5)\n",
        "    self.conv2 = nn.Conv2d(6, 16, kernel_size=5)\n",
        "    self.dropout = nn.Dropout2d()\n",
        "    self.fc1 = nn.Linear(256, 64)\n",
        "    self.fc2 = nn.Linear(64, 1)\n",
        "    self.hybrid = Hybrid(Aer.get_backend('aer_simulator'), 100, np.pi / 2)\n",
        "\n",
        "  def forward(self, x):\n",
        "    x = F.relu(self.conv1(x))\n",
        "    x = F.max_pool2d(x, 2)\n",
        "    x = F.relu(self.conv2(x))\n",
        "    x = F.max_pool2d(x, 2)\n",
        "    x = self.dropout(x)\n",
        "    x = x.view(1, -1)\n",
        "    x = F.relu(self.fc1(x))\n",
        "    x = self.fc2(x)\n",
        "    x = self.hybrid(x)\n",
        "    return torch.cat((x, 1 - x), -1)"
      ],
      "metadata": {
        "id": "P2u0JQe2o84E"
      },
      "execution_count": null,
      "outputs": []
    },
    {
      "cell_type": "code",
      "source": [
        "model = Net()\n",
        "optimizer = optim.Adam(model.parameters(), lr=0.001)\n",
        "loss_func = nn.NLLLoss()\n",
        "\n",
        "epochs = 20\n",
        "loss_list = []\n",
        "\n",
        "model.train()\n",
        "\n",
        "for epoch in range(epochs):\n",
        "  total_loss = []\n",
        "  for data, target in zip(X_train, y_train):\n",
        "    optimizer.zero_grad()\n",
        "    data = torch.from_numpy(data).unsqueeze(0)\n",
        "    data = data.float()\n",
        "    output = model(data)\n",
        "    target = torch.tensor([target])\n",
        "    loss = loss_func(output, target)\n",
        "    loss.backward()\n",
        "    optimizer.step()\n",
        "\n",
        "    total_loss.append(loss.item())\n",
        "  loss_list.append(sum(total_loss)/len(total_loss))\n",
        "  print('Training [{:.0f}%]\\tLoss: {:.4f}'.format(\n",
        "      100 * (epoch + 1) / epochs, loss_list[-1]))\n"
      ],
      "metadata": {
        "colab": {
          "base_uri": "https://localhost:8080/"
        },
        "id": "ugNx9F3Yq4tA",
        "outputId": "15a51dfd-ed36-412f-9006-c64d15cb006c"
      },
      "execution_count": null,
      "outputs": [
        {
          "output_type": "stream",
          "name": "stderr",
          "text": [
            "<ipython-input-180-3206b06e2208>:23: DeprecationWarning: Using a qobj for run() is deprecated as of qiskit-aer 0.14 and will be removed no sooner than 3 months from that release date. Transpiled circuits should now be passed directly using `backend.run(circuits, **run_options).\n",
            "  job = self.backend.run(qobj)\n"
          ]
        },
        {
          "output_type": "stream",
          "name": "stdout",
          "text": [
            "Training [5%]\tLoss: -0.9481\n",
            "Training [10%]\tLoss: -0.9181\n",
            "Training [15%]\tLoss: -0.8922\n",
            "Training [20%]\tLoss: -0.8759\n",
            "Training [25%]\tLoss: -0.9029\n",
            "Training [30%]\tLoss: -0.7470\n",
            "Training [35%]\tLoss: -0.9094\n",
            "Training [40%]\tLoss: -0.9504\n",
            "Training [45%]\tLoss: -0.9521\n",
            "Training [50%]\tLoss: -0.9542\n",
            "Training [55%]\tLoss: -0.9541\n",
            "Training [60%]\tLoss: -0.9460\n",
            "Training [65%]\tLoss: -0.9393\n",
            "Training [70%]\tLoss: -0.9453\n",
            "Training [75%]\tLoss: -0.9600\n",
            "Training [80%]\tLoss: -0.9584\n",
            "Training [85%]\tLoss: -0.9528\n",
            "Training [90%]\tLoss: -0.9508\n",
            "Training [95%]\tLoss: -0.9410\n",
            "Training [100%]\tLoss: -0.9507\n"
          ]
        }
      ]
    },
    {
      "cell_type": "code",
      "source": [
        "model.eval()\n",
        "with torch.no_grad():\n",
        "\n",
        "  correct = 0\n",
        "  for data, target in zip(X_test, y_test):\n",
        "    data = torch.from_numpy(data).unsqueeze(0)\n",
        "    data = data.float()\n",
        "    output = model(data)\n",
        "\n",
        "    pred = output.argmax(dim=1, keepdim=True)\n",
        "    target = torch.tensor([target])\n",
        "    correct += pred.eq(target.view_as(pred)).sum().item()\n",
        "\n",
        "    loss = loss_func(output, target)\n",
        "    total_loss.append(loss.item())\n",
        "\n",
        "  print('Performance on test data:\\n\\tLoss: {:.4f}\\n\\tAccuracy: {:.1f}%'.format(\n",
        "      sum(total_loss) / len(total_loss),\n",
        "      correct / len(X_test) * 100)\n",
        "  )"
      ],
      "metadata": {
        "colab": {
          "base_uri": "https://localhost:8080/"
        },
        "id": "T6I0MDdCxM7t",
        "outputId": "3d608c2f-175b-47b1-8de2-8e7a6e0833b4"
      },
      "execution_count": null,
      "outputs": [
        {
          "output_type": "stream",
          "name": "stderr",
          "text": [
            "<ipython-input-180-3206b06e2208>:23: DeprecationWarning: Using a qobj for run() is deprecated as of qiskit-aer 0.14 and will be removed no sooner than 3 months from that release date. Transpiled circuits should now be passed directly using `backend.run(circuits, **run_options).\n",
            "  job = self.backend.run(qobj)\n"
          ]
        },
        {
          "output_type": "stream",
          "name": "stdout",
          "text": [
            "Performance on test data:\n",
            "\tLoss: -0.8606\n",
            "\tAccuracy: 50.1%\n"
          ]
        }
      ]
    },
    {
      "cell_type": "code",
      "source": [
        "n_samples_show = 6\n",
        "count = 0\n",
        "fig, axes = plt.subplots(nrows=1, ncols=n_samples_show, figsize=(10, 3))\n",
        "\n",
        "model.eval()\n",
        "with torch.no_grad():\n",
        "  for data, target in zip(X_test, y_test):\n",
        "    if count == n_samples_show:\n",
        "      break\n",
        "    data = torch.from_numpy(data).unsqueeze(0)\n",
        "    data = data.float()\n",
        "    output = model(data)\n",
        "\n",
        "    pred = output.argmax(dim=1, keepdim=True)\n",
        "\n",
        "    axes[count].imshow(data[0].numpy().squeeze(), cmap='gray')\n",
        "\n",
        "    axes[count].set_xticks([])\n",
        "    axes[count].set_yticks([])\n",
        "    axes[count].set_title('Predicted {}'.format(pred.item()))\n",
        "\n",
        "    count += 1"
      ],
      "metadata": {
        "colab": {
          "base_uri": "https://localhost:8080/",
          "height": 226
        },
        "id": "Bzt5x8UdyzCz",
        "outputId": "4b499abd-dd60-46f2-f39f-581e81ecffcc"
      },
      "execution_count": null,
      "outputs": [
        {
          "output_type": "stream",
          "name": "stderr",
          "text": [
            "<ipython-input-180-3206b06e2208>:23: DeprecationWarning: Using a qobj for run() is deprecated as of qiskit-aer 0.14 and will be removed no sooner than 3 months from that release date. Transpiled circuits should now be passed directly using `backend.run(circuits, **run_options).\n",
            "  job = self.backend.run(qobj)\n"
          ]
        },
        {
          "output_type": "display_data",
          "data": {
            "text/plain": [
              "<Figure size 1000x300 with 6 Axes>"
            ],
            "image/png": "[encoded data removed]"
          },
          "metadata": {}
        }
      ]
    },
    {
      "cell_type": "code",
      "source": [
        "!pip install qiskit_machine_learning"
      ],
      "metadata": {
        "id": "Ze8lWE6sZ6wU"
      },
      "execution_count": null,
      "outputs": []
    },
    {
      "cell_type": "code",
      "source": [
        "import json\n",
        "import matplotlib.pyplot as plt\n",
        "import numpy as np\n",
        "from IPython.display import clear_output\n",
        "\n",
        "from sklearn.model_selection import train_test_split\n",
        "from qiskit_algorithms.utils import algorithm_globals"
      ],
      "metadata": {
        "id": "7KPCUznmZpL4"
      },
      "execution_count": null,
      "outputs": []
    },
    {
      "cell_type": "code",
      "source": [
        "def generate_dataset(num_images):\n",
        "    images = []\n",
        "    labels = []\n",
        "    hor_array = np.zeros((6, 8))\n",
        "    ver_array = np.zeros((4, 8))\n",
        "\n",
        "    j = 0\n",
        "    for i in range(0, 7):\n",
        "        if i != 3:\n",
        "            hor_array[j][i] = np.pi / 2\n",
        "            hor_array[j][i + 1] = np.pi / 2\n",
        "            j += 1\n",
        "\n",
        "    j = 0\n",
        "    for i in range(0, 4):\n",
        "        ver_array[j][i] = np.pi / 2\n",
        "        ver_array[j][i + 4] = np.pi / 2\n",
        "        j += 1\n",
        "\n",
        "    for n in range(num_images):\n",
        "        rng = algorithm_globals.random.integers(0, 2)\n",
        "        if rng == 0:\n",
        "            labels.append(-1)\n",
        "            random_image = algorithm_globals.random.integers(0, 6)\n",
        "            images.append(np.array(hor_array[random_image]))\n",
        "        elif rng == 1:\n",
        "            labels.append(1)\n",
        "            random_image = algorithm_globals.random.integers(0, 4)\n",
        "            images.append(np.array(ver_array[random_image]))\n",
        "\n",
        "        # Create noise\n",
        "        for i in range(8):\n",
        "            if images[-1][i] == 0:\n",
        "                images[-1][i] = algorithm_globals.random.uniform(0, np.pi / 4)\n",
        "    return images, labels"
      ],
      "metadata": {
        "id": "hsaDrqp_Yueb"
      },
      "execution_count": null,
      "outputs": []
    },
    {
      "cell_type": "code",
      "source": [
        "images, labels = generate_dataset(50)\n",
        "\n",
        "train_images, test_images, train_labels, test_labels = train_test_split(\n",
        "    images, labels, test_size=0.3, random_state=246\n",
        ")"
      ],
      "metadata": {
        "id": "vvK8cR9pYvbH"
      },
      "execution_count": null,
      "outputs": []
    },
    {
      "cell_type": "code",
      "source": [
        "train_labels[0]"
      ],
      "metadata": {
        "colab": {
          "base_uri": "https://localhost:8080/"
        },
        "id": "gizjwUsaaPxS",
        "outputId": "cc47a4c3-9c19-4c76-a48c-ce63a0222444"
      },
      "execution_count": null,
      "outputs": [
        {
          "output_type": "execute_result",
          "data": {
            "text/plain": [
              "-1"
            ]
          },
          "metadata": {},
          "execution_count": 5
        }
      ]
    }
  ]
}